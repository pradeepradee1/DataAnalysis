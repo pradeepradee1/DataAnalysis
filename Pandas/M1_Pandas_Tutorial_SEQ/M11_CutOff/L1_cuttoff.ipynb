{
 "cells": [
  {
   "cell_type": "code",
   "execution_count": 1,
   "id": "abd19cd2",
   "metadata": {},
   "outputs": [
    {
     "data": {
      "text/html": [
       "<div>\n",
       "<style scoped>\n",
       "    .dataframe tbody tr th:only-of-type {\n",
       "        vertical-align: middle;\n",
       "    }\n",
       "\n",
       "    .dataframe tbody tr th {\n",
       "        vertical-align: top;\n",
       "    }\n",
       "\n",
       "    .dataframe thead th {\n",
       "        text-align: right;\n",
       "    }\n",
       "</style>\n",
       "<table border=\"1\" class=\"dataframe\">\n",
       "  <thead>\n",
       "    <tr style=\"text-align: right;\">\n",
       "      <th></th>\n",
       "      <th>name</th>\n",
       "      <th>mark</th>\n",
       "    </tr>\n",
       "  </thead>\n",
       "  <tbody>\n",
       "    <tr>\n",
       "      <th>0</th>\n",
       "      <td>Sajjad</td>\n",
       "      <td>86</td>\n",
       "    </tr>\n",
       "    <tr>\n",
       "      <th>1</th>\n",
       "      <td>Ali Reza</td>\n",
       "      <td>61</td>\n",
       "    </tr>\n",
       "    <tr>\n",
       "      <th>2</th>\n",
       "      <td>David</td>\n",
       "      <td>49</td>\n",
       "    </tr>\n",
       "    <tr>\n",
       "      <th>3</th>\n",
       "      <td>Mohammad</td>\n",
       "      <td>92</td>\n",
       "    </tr>\n",
       "    <tr>\n",
       "      <th>4</th>\n",
       "      <td>John</td>\n",
       "      <td>100</td>\n",
       "    </tr>\n",
       "    <tr>\n",
       "      <th>5</th>\n",
       "      <td>S</td>\n",
       "      <td>81</td>\n",
       "    </tr>\n",
       "    <tr>\n",
       "      <th>6</th>\n",
       "      <td>A R</td>\n",
       "      <td>62</td>\n",
       "    </tr>\n",
       "    <tr>\n",
       "      <th>7</th>\n",
       "      <td>D</td>\n",
       "      <td>42</td>\n",
       "    </tr>\n",
       "    <tr>\n",
       "      <th>8</th>\n",
       "      <td>M</td>\n",
       "      <td>90</td>\n",
       "    </tr>\n",
       "    <tr>\n",
       "      <th>9</th>\n",
       "      <td>J</td>\n",
       "      <td>110</td>\n",
       "    </tr>\n",
       "  </tbody>\n",
       "</table>\n",
       "</div>"
      ],
      "text/plain": [
       "       name  mark\n",
       "0    Sajjad    86\n",
       "1  Ali Reza    61\n",
       "2     David    49\n",
       "3  Mohammad    92\n",
       "4      John   100\n",
       "5         S    81\n",
       "6       A R    62\n",
       "7         D    42\n",
       "8         M    90\n",
       "9         J   110"
      ]
     },
     "execution_count": 1,
     "metadata": {},
     "output_type": "execute_result"
    }
   ],
   "source": [
    "import pandas as pd\n",
    "df=pd.DataFrame({\n",
    "    \"name\":[\"Sajjad\",\"Ali Reza\",\"David\",\"Mohammad\",\"John\",\"S\",\"A R\",\"D\",\"M\",\"J\"],\n",
    "    \"mark\":[86,61,49,92,100,81,62,42,90,110]})\n",
    "df"
   ]
  },
  {
   "cell_type": "markdown",
   "id": "898da7b2",
   "metadata": {},
   "source": [
    "### [0 - 50]      = Failed\n",
    "### [50 - 70]    = C\n",
    "### [70 - 90]    = B\n",
    "### [90 - 100]  = A"
   ]
  },
  {
   "cell_type": "code",
   "execution_count": 2,
   "id": "46b63327",
   "metadata": {},
   "outputs": [
    {
     "data": {
      "text/html": [
       "<div>\n",
       "<style scoped>\n",
       "    .dataframe tbody tr th:only-of-type {\n",
       "        vertical-align: middle;\n",
       "    }\n",
       "\n",
       "    .dataframe tbody tr th {\n",
       "        vertical-align: top;\n",
       "    }\n",
       "\n",
       "    .dataframe thead th {\n",
       "        text-align: right;\n",
       "    }\n",
       "</style>\n",
       "<table border=\"1\" class=\"dataframe\">\n",
       "  <thead>\n",
       "    <tr style=\"text-align: right;\">\n",
       "      <th></th>\n",
       "      <th>name</th>\n",
       "      <th>mark</th>\n",
       "      <th>Qualitative</th>\n",
       "    </tr>\n",
       "  </thead>\n",
       "  <tbody>\n",
       "    <tr>\n",
       "      <th>0</th>\n",
       "      <td>Sajjad</td>\n",
       "      <td>86</td>\n",
       "      <td>C</td>\n",
       "    </tr>\n",
       "    <tr>\n",
       "      <th>1</th>\n",
       "      <td>Ali Reza</td>\n",
       "      <td>61</td>\n",
       "      <td>B</td>\n",
       "    </tr>\n",
       "    <tr>\n",
       "      <th>2</th>\n",
       "      <td>David</td>\n",
       "      <td>49</td>\n",
       "      <td>A_Failed</td>\n",
       "    </tr>\n",
       "    <tr>\n",
       "      <th>3</th>\n",
       "      <td>Mohammad</td>\n",
       "      <td>92</td>\n",
       "      <td>D</td>\n",
       "    </tr>\n",
       "    <tr>\n",
       "      <th>4</th>\n",
       "      <td>John</td>\n",
       "      <td>100</td>\n",
       "      <td>D</td>\n",
       "    </tr>\n",
       "    <tr>\n",
       "      <th>5</th>\n",
       "      <td>S</td>\n",
       "      <td>81</td>\n",
       "      <td>C</td>\n",
       "    </tr>\n",
       "    <tr>\n",
       "      <th>6</th>\n",
       "      <td>A R</td>\n",
       "      <td>62</td>\n",
       "      <td>B</td>\n",
       "    </tr>\n",
       "    <tr>\n",
       "      <th>7</th>\n",
       "      <td>D</td>\n",
       "      <td>42</td>\n",
       "      <td>A_Failed</td>\n",
       "    </tr>\n",
       "    <tr>\n",
       "      <th>8</th>\n",
       "      <td>M</td>\n",
       "      <td>90</td>\n",
       "      <td>C</td>\n",
       "    </tr>\n",
       "    <tr>\n",
       "      <th>9</th>\n",
       "      <td>J</td>\n",
       "      <td>110</td>\n",
       "      <td>D</td>\n",
       "    </tr>\n",
       "  </tbody>\n",
       "</table>\n",
       "</div>"
      ],
      "text/plain": [
       "       name  mark Qualitative\n",
       "0    Sajjad    86           C\n",
       "1  Ali Reza    61           B\n",
       "2     David    49    A_Failed\n",
       "3  Mohammad    92           D\n",
       "4      John   100           D\n",
       "5         S    81           C\n",
       "6       A R    62           B\n",
       "7         D    42    A_Failed\n",
       "8         M    90           C\n",
       "9         J   110           D"
      ]
     },
     "execution_count": 2,
     "metadata": {},
     "output_type": "execute_result"
    }
   ],
   "source": [
    "cuttoff = [0,50,70,90,120]\n",
    "label = [\"A_Failed\",\"B\",\"C\",\"D\"]\n",
    "df[\"Qualitative\"]=pd.cut(df[\"mark\"],bins=cuttoff,labels=label)\n",
    "df"
   ]
  },
  {
   "cell_type": "code",
   "execution_count": 3,
   "id": "fc4928e0",
   "metadata": {},
   "outputs": [
    {
     "data": {
      "text/plain": [
       "0      (76.0, 93.0]\n",
       "1      (59.0, 76.0]\n",
       "2    (41.932, 59.0]\n",
       "3      (76.0, 93.0]\n",
       "4     (93.0, 110.0]\n",
       "5      (76.0, 93.0]\n",
       "6      (59.0, 76.0]\n",
       "7    (41.932, 59.0]\n",
       "8      (76.0, 93.0]\n",
       "9     (93.0, 110.0]\n",
       "Name: mark, dtype: category\n",
       "Categories (4, interval[float64, right]): [(41.932, 59.0] < (59.0, 76.0] < (76.0, 93.0] < (93.0, 110.0]]"
      ]
     },
     "execution_count": 3,
     "metadata": {},
     "output_type": "execute_result"
    }
   ],
   "source": [
    "pd.cut(df.mark,4)"
   ]
  },
  {
   "cell_type": "code",
   "execution_count": 4,
   "id": "be0ea80e",
   "metadata": {},
   "outputs": [
    {
     "data": {
      "text/plain": [
       "0       (83.5, 91.5]\n",
       "1    (41.999, 61.25]\n",
       "2    (41.999, 61.25]\n",
       "3      (91.5, 110.0]\n",
       "4      (91.5, 110.0]\n",
       "5      (61.25, 83.5]\n",
       "6      (61.25, 83.5]\n",
       "7    (41.999, 61.25]\n",
       "8       (83.5, 91.5]\n",
       "9      (91.5, 110.0]\n",
       "Name: mark, dtype: category\n",
       "Categories (4, interval[float64, right]): [(41.999, 61.25] < (61.25, 83.5] < (83.5, 91.5] < (91.5, 110.0]]"
      ]
     },
     "execution_count": 4,
     "metadata": {},
     "output_type": "execute_result"
    }
   ],
   "source": [
    "pd.qcut(df.mark,4)"
   ]
  },
  {
   "cell_type": "code",
   "execution_count": null,
   "id": "a545e016",
   "metadata": {},
   "outputs": [],
   "source": []
  },
  {
   "cell_type": "code",
   "execution_count": null,
   "id": "d082a36d",
   "metadata": {},
   "outputs": [],
   "source": []
  }
 ],
 "metadata": {
  "kernelspec": {
   "display_name": "Python 3 (ipykernel)",
   "language": "python",
   "name": "python3"
  },
  "language_info": {
   "codemirror_mode": {
    "name": "ipython",
    "version": 3
   },
   "file_extension": ".py",
   "mimetype": "text/x-python",
   "name": "python",
   "nbconvert_exporter": "python",
   "pygments_lexer": "ipython3",
   "version": "3.8.10"
  }
 },
 "nbformat": 4,
 "nbformat_minor": 5
}
