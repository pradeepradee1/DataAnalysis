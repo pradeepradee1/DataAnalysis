{
 "cells": [
  {
   "cell_type": "markdown",
   "id": "09fe1bdb",
   "metadata": {},
   "source": [
    "# Topic : Read "
   ]
  },
  {
   "cell_type": "code",
   "execution_count": 4,
   "id": "c4d96866",
   "metadata": {},
   "outputs": [],
   "source": [
    "import mysql.connector    \n",
    "cnx = mysql.connector.connect(user='root', password='password',\n",
    "                              host='127.0.0.1',\n",
    "                              database='cub_SME')\n",
    "\n",
    "\n",
    "cursor = cnx.cursor()\n",
    "cursor.execute(\"\"\"\n",
    "SELECT \n",
    "jd.CUSTOMERID ,\n",
    "jd.SEX \n",
    "from \n",
    "cub_SME.JLCustomerDemographics jd \n",
    "\n",
    "\"\"\")\n",
    "SB = cursor.fetchall()"
   ]
  },
  {
   "cell_type": "code",
   "execution_count": 5,
   "id": "be3b4a22",
   "metadata": {},
   "outputs": [],
   "source": [
    "import pandas as pd\n",
    "sbcolumns=['CUSTOMERID',\"SEX\"]\n",
    "sbdataframe=pd.DataFrame(SB,columns=sbcolumns)"
   ]
  },
  {
   "cell_type": "code",
   "execution_count": 6,
   "id": "f4339d6f",
   "metadata": {},
   "outputs": [
    {
     "data": {
      "text/html": [
       "<div>\n",
       "<style scoped>\n",
       "    .dataframe tbody tr th:only-of-type {\n",
       "        vertical-align: middle;\n",
       "    }\n",
       "\n",
       "    .dataframe tbody tr th {\n",
       "        vertical-align: top;\n",
       "    }\n",
       "\n",
       "    .dataframe thead th {\n",
       "        text-align: right;\n",
       "    }\n",
       "</style>\n",
       "<table border=\"1\" class=\"dataframe\">\n",
       "  <thead>\n",
       "    <tr style=\"text-align: right;\">\n",
       "      <th></th>\n",
       "      <th>CUSTOMERID</th>\n",
       "      <th>SEX</th>\n",
       "    </tr>\n",
       "  </thead>\n",
       "  <tbody>\n",
       "    <tr>\n",
       "      <th>0</th>\n",
       "      <td>8222979</td>\n",
       "      <td>M</td>\n",
       "    </tr>\n",
       "    <tr>\n",
       "      <th>1</th>\n",
       "      <td>1198471</td>\n",
       "      <td>M</td>\n",
       "    </tr>\n",
       "    <tr>\n",
       "      <th>2</th>\n",
       "      <td>1372321</td>\n",
       "      <td>M</td>\n",
       "    </tr>\n",
       "    <tr>\n",
       "      <th>3</th>\n",
       "      <td>7472187</td>\n",
       "      <td>M</td>\n",
       "    </tr>\n",
       "    <tr>\n",
       "      <th>4</th>\n",
       "      <td>8670517</td>\n",
       "      <td>M</td>\n",
       "    </tr>\n",
       "    <tr>\n",
       "      <th>...</th>\n",
       "      <td>...</td>\n",
       "      <td>...</td>\n",
       "    </tr>\n",
       "    <tr>\n",
       "      <th>5612</th>\n",
       "      <td>6490019</td>\n",
       "      <td>F</td>\n",
       "    </tr>\n",
       "    <tr>\n",
       "      <th>5613</th>\n",
       "      <td>863903</td>\n",
       "      <td>F</td>\n",
       "    </tr>\n",
       "    <tr>\n",
       "      <th>5614</th>\n",
       "      <td>7919523</td>\n",
       "      <td>F</td>\n",
       "    </tr>\n",
       "    <tr>\n",
       "      <th>5615</th>\n",
       "      <td>7306593</td>\n",
       "      <td>M</td>\n",
       "    </tr>\n",
       "    <tr>\n",
       "      <th>5616</th>\n",
       "      <td>6711679</td>\n",
       "      <td>M</td>\n",
       "    </tr>\n",
       "  </tbody>\n",
       "</table>\n",
       "<p>5617 rows × 2 columns</p>\n",
       "</div>"
      ],
      "text/plain": [
       "     CUSTOMERID SEX\n",
       "0       8222979  M \n",
       "1       1198471  M \n",
       "2       1372321  M \n",
       "3       7472187  M \n",
       "4       8670517  M \n",
       "...         ...  ..\n",
       "5612    6490019  F \n",
       "5613     863903  F \n",
       "5614    7919523  F \n",
       "5615    7306593  M \n",
       "5616    6711679  M \n",
       "\n",
       "[5617 rows x 2 columns]"
      ]
     },
     "execution_count": 6,
     "metadata": {},
     "output_type": "execute_result"
    }
   ],
   "source": [
    "sbdataframe"
   ]
  },
  {
   "cell_type": "code",
   "execution_count": null,
   "id": "a11993c6",
   "metadata": {},
   "outputs": [],
   "source": []
  }
 ],
 "metadata": {
  "kernelspec": {
   "display_name": "Python 3 (ipykernel)",
   "language": "python",
   "name": "python3"
  },
  "language_info": {
   "codemirror_mode": {
    "name": "ipython",
    "version": 3
   },
   "file_extension": ".py",
   "mimetype": "text/x-python",
   "name": "python",
   "nbconvert_exporter": "python",
   "pygments_lexer": "ipython3",
   "version": "3.8.10"
  }
 },
 "nbformat": 4,
 "nbformat_minor": 5
}
